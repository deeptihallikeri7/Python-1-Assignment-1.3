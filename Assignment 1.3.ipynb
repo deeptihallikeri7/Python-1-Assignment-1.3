{
 "cells": [
  {
   "cell_type": "code",
   "execution_count": 2,
   "metadata": {},
   "outputs": [
    {
     "name": "stdout",
     "output_type": "stream",
     "text": [
      "Please input your First Name : Deepti\n",
      "Please input your Last Name : Hallikeri\n",
      "Hallikeri Deepti\n"
     ]
    }
   ],
   "source": [
    "# Reading the first name and assigning to the variable 'fname' \n",
    "fname = input(\"Please input your First Name : \")\n",
    "# Reading the last name and assigning to the variable 'lname'\n",
    "lname = input(\"Please input your Last Name : \")\n",
    "# Printing the First and Last name in the reverse order\n",
    "print (lname + \" \" + fname)"
   ]
  },
  {
   "cell_type": "code",
   "execution_count": null,
   "metadata": {},
   "outputs": [],
   "source": []
  }
 ],
 "metadata": {
  "kernelspec": {
   "display_name": "Python 3",
   "language": "python",
   "name": "python3"
  },
  "language_info": {
   "codemirror_mode": {
    "name": "ipython",
    "version": 3
   },
   "file_extension": ".py",
   "mimetype": "text/x-python",
   "name": "python",
   "nbconvert_exporter": "python",
   "pygments_lexer": "ipython3",
   "version": "3.6.4"
  }
 },
 "nbformat": 4,
 "nbformat_minor": 2
}
